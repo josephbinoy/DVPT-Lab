{
  "nbformat": 4,
  "nbformat_minor": 0,
  "metadata": {
    "colab": {
      "provenance": []
    },
    "kernelspec": {
      "name": "python3",
      "display_name": "Python 3"
    },
    "language_info": {
      "name": "python"
    }
  },
  "cells": [
    {
      "cell_type": "code",
      "execution_count": 1,
      "metadata": {
        "id": "xcqP3c8qdFYC"
      },
      "outputs": [],
      "source": [
        "from pyspark.sql import SparkSession\n",
        "from pyspark.sql.functions import col, rand, avg, when"
      ]
    },
    {
      "cell_type": "code",
      "source": [
        "spark = SparkSession.builder.appName(\"airlines2\").getOrCreate()"
      ],
      "metadata": {
        "id": "QK50xwf8dSlc"
      },
      "execution_count": 2,
      "outputs": []
    },
    {
      "cell_type": "code",
      "source": [
        "data = spark.read.csv(\"/content/Airlines.csv\", header=True, inferSchema=True)\n",
        "data.show()"
      ],
      "metadata": {
        "colab": {
          "base_uri": "https://localhost:8080/"
        },
        "id": "83lazPrbdXPT",
        "outputId": "5db4f652-5f19-41f9-b999-27fcc01ea617"
      },
      "execution_count": 4,
      "outputs": [
        {
          "output_type": "stream",
          "name": "stdout",
          "text": [
            "+---+-------+------+-----------+---------+---------+----+------+-----+\n",
            "| id|Airline|Flight|AirportFrom|AirportTo|DayOfWeek|Time|Length|Delay|\n",
            "+---+-------+------+-----------+---------+---------+----+------+-----+\n",
            "|  1|     CO|   269|        SFO|      IAH|        3|  15|   205|    1|\n",
            "|  2|     US|  1558|        PHX|      CLT|        3|  15|   222|    1|\n",
            "|  3|     AA|  2400|        LAX|      DFW|        3|  20|   165|    1|\n",
            "|  4|     AA|  2466|        SFO|      DFW|        3|  20|   195|    1|\n",
            "|  5|     AS|   108|        ANC|      SEA|        3|  30|   202|    0|\n",
            "|  6|     CO|  1094|        LAX|      IAH|        3|  30|   181|    1|\n",
            "|  7|     DL|  1768|        LAX|      MSP|        3|  30|   220|    0|\n",
            "|  8|     DL|  2722|        PHX|      DTW|        3|  30|   228|    0|\n",
            "|  9|     DL|  2606|        SFO|      MSP|        3|  35|   216|    1|\n",
            "| 10|     AA|  2538|        LAS|      ORD|        3|  40|   200|    1|\n",
            "| 11|     CO|   223|        ANC|      SEA|        3|  49|   201|    1|\n",
            "| 12|     DL|  1646|        PHX|      ATL|        3|  50|   212|    1|\n",
            "| 13|     DL|  2055|        SLC|      ATL|        3|  50|   210|    0|\n",
            "| 14|     AA|  2408|        LAX|      DFW|        3|  55|   170|    0|\n",
            "| 15|     AS|   132|        ANC|      PDX|        3|  55|   215|    0|\n",
            "| 16|     US|   498|        DEN|      CLT|        3|  55|   179|    0|\n",
            "| 17|     B6|    98|        DEN|      JFK|        3|  59|   213|    0|\n",
            "| 18|     CO|  1496|        LAS|      IAH|        3|  60|   162|    0|\n",
            "| 19|     DL|  1450|        LAS|      MSP|        3|  60|   181|    0|\n",
            "| 20|     CO|   507|        ONT|      IAH|        3|  75|   167|    0|\n",
            "+---+-------+------+-----------+---------+---------+----+------+-----+\n",
            "only showing top 20 rows\n",
            "\n"
          ]
        }
      ]
    },
    {
      "cell_type": "code",
      "source": [
        "data = data.withColumn(\"DelayTime\", when(col(\"Delay\")==1, (rand()*30).cast(\"int\")+1).otherwise(0))\n",
        "data.show()"
      ],
      "metadata": {
        "colab": {
          "base_uri": "https://localhost:8080/"
        },
        "id": "adsnPubndYsF",
        "outputId": "d5cd7e21-a8b7-4f5c-88ae-2a67b2652c53"
      },
      "execution_count": 5,
      "outputs": [
        {
          "output_type": "stream",
          "name": "stdout",
          "text": [
            "+---+-------+------+-----------+---------+---------+----+------+-----+---------+\n",
            "| id|Airline|Flight|AirportFrom|AirportTo|DayOfWeek|Time|Length|Delay|DelayTime|\n",
            "+---+-------+------+-----------+---------+---------+----+------+-----+---------+\n",
            "|  1|     CO|   269|        SFO|      IAH|        3|  15|   205|    1|       14|\n",
            "|  2|     US|  1558|        PHX|      CLT|        3|  15|   222|    1|       14|\n",
            "|  3|     AA|  2400|        LAX|      DFW|        3|  20|   165|    1|       22|\n",
            "|  4|     AA|  2466|        SFO|      DFW|        3|  20|   195|    1|       27|\n",
            "|  5|     AS|   108|        ANC|      SEA|        3|  30|   202|    0|        0|\n",
            "|  6|     CO|  1094|        LAX|      IAH|        3|  30|   181|    1|       21|\n",
            "|  7|     DL|  1768|        LAX|      MSP|        3|  30|   220|    0|        0|\n",
            "|  8|     DL|  2722|        PHX|      DTW|        3|  30|   228|    0|        0|\n",
            "|  9|     DL|  2606|        SFO|      MSP|        3|  35|   216|    1|       15|\n",
            "| 10|     AA|  2538|        LAS|      ORD|        3|  40|   200|    1|       21|\n",
            "| 11|     CO|   223|        ANC|      SEA|        3|  49|   201|    1|       20|\n",
            "| 12|     DL|  1646|        PHX|      ATL|        3|  50|   212|    1|       24|\n",
            "| 13|     DL|  2055|        SLC|      ATL|        3|  50|   210|    0|        0|\n",
            "| 14|     AA|  2408|        LAX|      DFW|        3|  55|   170|    0|        0|\n",
            "| 15|     AS|   132|        ANC|      PDX|        3|  55|   215|    0|        0|\n",
            "| 16|     US|   498|        DEN|      CLT|        3|  55|   179|    0|        0|\n",
            "| 17|     B6|    98|        DEN|      JFK|        3|  59|   213|    0|        0|\n",
            "| 18|     CO|  1496|        LAS|      IAH|        3|  60|   162|    0|        0|\n",
            "| 19|     DL|  1450|        LAS|      MSP|        3|  60|   181|    0|        0|\n",
            "| 20|     CO|   507|        ONT|      IAH|        3|  75|   167|    0|        0|\n",
            "+---+-------+------+-----------+---------+---------+----+------+-----+---------+\n",
            "only showing top 20 rows\n",
            "\n"
          ]
        }
      ]
    },
    {
      "cell_type": "code",
      "source": [
        "avg_delay_df = data.groupBy(\"Airline\").agg(avg(\"DelayTime\").alias(\"AverageDelayTime\"))\n",
        "avg_delay_df.show()"
      ],
      "metadata": {
        "colab": {
          "base_uri": "https://localhost:8080/"
        },
        "id": "m7681h69dbDH",
        "outputId": "d1a0f0bd-263b-4fed-d68a-3330a184b094"
      },
      "execution_count": 8,
      "outputs": [
        {
          "output_type": "stream",
          "name": "stdout",
          "text": [
            "+-------+------------------+\n",
            "|Airline|  AverageDelayTime|\n",
            "+-------+------------------+\n",
            "|     UA| 5.002498280169449|\n",
            "|     AA| 6.069695111266865|\n",
            "|     EV| 6.233713325947897|\n",
            "|     B6|  7.25231890459364|\n",
            "|     DL| 7.000738431243846|\n",
            "|     OO| 7.002507263103435|\n",
            "|     F9|  6.82187112763321|\n",
            "|     YV|3.7739890710382515|\n",
            "|     US| 5.185623188405797|\n",
            "|     MQ| 5.372326184947411|\n",
            "|     OH| 4.230878859857482|\n",
            "|     HA| 4.920401577626389|\n",
            "|     XE| 5.870943905416693|\n",
            "|     AS| 5.288292215151251|\n",
            "|     CO| 8.759304858414623|\n",
            "|     FL|  4.70936764776492|\n",
            "|     WN| 10.78018427792597|\n",
            "|     9E| 6.161703567630282|\n",
            "+-------+------------------+\n",
            "\n"
          ]
        }
      ]
    },
    {
      "cell_type": "code",
      "source": [
        "top_delay_df = avg_delay_df.orderBy(col(\"AverageDelayTime\").desc()).limit(5)\n",
        "top_delay_df.show()"
      ],
      "metadata": {
        "colab": {
          "base_uri": "https://localhost:8080/"
        },
        "id": "myJL-Popd-2s",
        "outputId": "c1d95a56-471b-4d27-b38f-a61ebb32a20a"
      },
      "execution_count": 11,
      "outputs": [
        {
          "output_type": "stream",
          "name": "stdout",
          "text": [
            "+-------+-----------------+\n",
            "|Airline| AverageDelayTime|\n",
            "+-------+-----------------+\n",
            "|     WN|10.78018427792597|\n",
            "|     CO|8.759304858414623|\n",
            "|     B6| 7.25231890459364|\n",
            "|     OO|7.002507263103435|\n",
            "|     DL|7.000738431243846|\n",
            "+-------+-----------------+\n",
            "\n"
          ]
        }
      ]
    },
    {
      "cell_type": "code",
      "source": [
        "spark.stop()"
      ],
      "metadata": {
        "id": "mqtNO0QafCv_"
      },
      "execution_count": 12,
      "outputs": []
    },
    {
      "cell_type": "code",
      "source": [],
      "metadata": {
        "id": "7qYIZnTOfN0w"
      },
      "execution_count": null,
      "outputs": []
    }
  ]
}